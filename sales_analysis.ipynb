{
 "cells": [
  {
   "cell_type": "code",
   "execution_count": 1,
   "id": "01bd36fb",
   "metadata": {},
   "outputs": [
    {
     "name": "stdout",
     "output_type": "stream",
     "text": [
      "Unique Products Sold:\n",
      "- Smartphone\n",
      "- Laptop\n",
      "- Tablet\n",
      "- Smartwatch\n",
      "\n",
      "Sales Summary (Total Revenue per Product):\n",
      "Laptop: $12000\n",
      "Smartphone: $21000\n",
      "Tablet: $4500\n",
      "Smartwatch: $4000\n",
      "\n",
      "Data Insights:\n",
      "The product with the highest revenue is Smartphone with a total of $21000.\n"
     ]
    }
   ],
   "source": [
    "# Step 1: Define sales data\n",
    "sales_data = [\n",
    "    (\"Laptop\", 10, 800),\n",
    "    (\"Smartphone\", 25, 600),\n",
    "    (\"Tablet\", 15, 300),\n",
    "    (\"Smartwatch\", 20, 200),\n",
    "    (\"Laptop\", 5, 800),  # Duplicate product\n",
    "    (\"Smartphone\", 10, 600),  # Duplicate product\n",
    "]\n",
    "\n",
    "# Step 2: Initialize data structures\n",
    "unique_products = set()\n",
    "sales_summary = {}\n",
    "\n",
    "# Step 3: Process sales data\n",
    "for product_name, quantity_sold, price_per_item in sales_data:\n",
    "    # Add product to unique set\n",
    "    unique_products.add(product_name)\n",
    "    \n",
    "    # Calculate revenue for this transaction\n",
    "    revenue = quantity_sold * price_per_item\n",
    "    \n",
    "    # Update the sales summary dictionary\n",
    "    if product_name in sales_summary:\n",
    "        sales_summary[product_name] += revenue\n",
    "    else:\n",
    "        sales_summary[product_name] = revenue\n",
    "\n",
    "# Step 4: Display unique products and sales summary\n",
    "print(\"Unique Products Sold:\")\n",
    "for product in unique_products:\n",
    "    print(f\"- {product}\")\n",
    "\n",
    "print(\"\\nSales Summary (Total Revenue per Product):\")\n",
    "for product, total_revenue in sales_summary.items():\n",
    "    print(f\"{product}: ${total_revenue}\")\n",
    "\n",
    "# Step 5: Analyze the data to find the highest revenue product\n",
    "highest_revenue_product = max(sales_summary, key=sales_summary.get)\n",
    "highest_revenue_amount = sales_summary[highest_revenue_product]\n",
    "\n",
    "# Step 6: Display insights\n",
    "print(\"\\nData Insights:\")\n",
    "print(f\"The product with the highest revenue is {highest_revenue_product} with a total of ${highest_revenue_amount}.\")\n"
   ]
  }
 ],
 "metadata": {
  "kernelspec": {
   "display_name": "Python 3",
   "language": "python",
   "name": "python3"
  },
  "language_info": {
   "codemirror_mode": {
    "name": "ipython",
    "version": 3
   },
   "file_extension": ".py",
   "mimetype": "text/x-python",
   "name": "python",
   "nbconvert_exporter": "python",
   "pygments_lexer": "ipython3",
   "version": "3.13.0"
  }
 },
 "nbformat": 4,
 "nbformat_minor": 5
}
